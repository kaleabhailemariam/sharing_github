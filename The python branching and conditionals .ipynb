{
  "metadata": {
    "language_info": {
      "codemirror_mode": {
        "name": "python",
        "version": 3
      },
      "file_extension": ".py",
      "mimetype": "text/x-python",
      "name": "python",
      "nbconvert_exporter": "python",
      "pygments_lexer": "ipython3",
      "version": "3.8"
    },
    "kernelspec": {
      "name": "python",
      "display_name": "Pyolite",
      "language": "python"
    }
  },
  "nbformat_minor": 4,
  "nbformat": 4,
  "cells": [
    {
      "cell_type": "code",
      "source": "# python if statement\nage=19\nif(age>18):\n    print(\"you can enter\")\n    print(\"move on\")\n    ",
      "metadata": {
        "trusted": true
      },
      "execution_count": 1,
      "outputs": [
        {
          "name": "stdout",
          "text": "you can enter\nmove on\n",
          "output_type": "stream"
        }
      ]
    },
    {
      "cell_type": "code",
      "source": "# python the conditional if statement\nage=18\nif(age>18):\n    print(\"you can enter\")\n    \nprint(\"move on\")",
      "metadata": {
        "trusted": true
      },
      "execution_count": 9,
      "outputs": [
        {
          "name": "stdout",
          "text": "move on\n",
          "output_type": "stream"
        }
      ]
    },
    {
      "cell_type": "code",
      "source": "# the else statement\nage=18\nif(age>18):\n    print(\"you can enter the movie theater\")\n    print(\"move on\")\nelif(age<18):\n    print(\"you can not enter the movie theater\")\n    print(\"move on\")\nelse:\n    print(\"you can join the other theater\")",
      "metadata": {
        "trusted": true
      },
      "execution_count": 12,
      "outputs": [
        {
          "name": "stdout",
          "text": "you can join the other theater\n",
          "output_type": "stream"
        }
      ]
    },
    {
      "cell_type": "code",
      "source": "# the python else if statement\nage=18\nif(age>18):\n    print(\"you can enter the movie theater\")\n    print(\"move on\")\nelif(age==18):\n    print(\"you can not enter the movie theater\")\n    print(\"move on\")",
      "metadata": {
        "trusted": true
      },
      "execution_count": 14,
      "outputs": [
        {
          "name": "stdout",
          "text": "you can not enter the movie theater\nmove on\n",
          "output_type": "stream"
        }
      ]
    },
    {
      "cell_type": "code",
      "source": "# Write an if statement to determine if an album had a rating greater than 8. \n# Test it using the rating for the album “Back in Black” that had a rating of 8.5. If the statement is true print \"This album is Amazing!\"\nalbum_rating=8.5\nif(album_rating > 8):\n    print(\"This album is amazing\")",
      "metadata": {
        "trusted": true
      },
      "execution_count": 18,
      "outputs": [
        {
          "name": "stdout",
          "text": "This album is amazing\n",
          "output_type": "stream"
        }
      ]
    },
    {
      "cell_type": "code",
      "source": "# Write an if-else statement that performs the following.\n# If the rating is larger then eight print “this album is amazing”. \n# If the rating is less than or equal to 8 print “this album is ok”.\nrating=7.5\nif(rating>8):\n    print(\"This album this amazaing\")\nelse:\n    print(\"This album can be fine\")",
      "metadata": {
        "trusted": true
      },
      "execution_count": 19,
      "outputs": [
        {
          "name": "stdout",
          "text": "This album can be fine\n",
          "output_type": "stream"
        }
      ]
    },
    {
      "cell_type": "code",
      "source": "# Write an if statement to determine if an album came out before 1980 or in the years: \n# 1991 or 1993. If the condition is true print out the year the album came out.\nA>",
      "metadata": {},
      "execution_count": null,
      "outputs": []
    }
  ]
}